{
 "cells": [
  {
   "cell_type": "code",
   "execution_count": 1,
   "metadata": {},
   "outputs": [],
   "source": [
    "#This is a use demonstration for the project\n",
    "#the important functions are in functions.py\n",
    "\n",
    "from functions import generate_vicsek_simulation,animate_trajectory"
   ]
  },
  {
   "cell_type": "code",
   "execution_count": null,
   "metadata": {},
   "outputs": [],
   "source": [
    "#In order to generate the trajectories, parameters must be set \n",
    "\n",
    "#----Parameters------\n",
    "N=10     #Number of elements in the square area\n",
    "L=1      #Size of square side\n",
    "v=0.01   #Velocity of the elements\n",
    "T=100    #Time of simulation\n",
    "R=0.05   #Radius of elements' interaction\n",
    "sigma=1  #Intensity of randomness of the elements' movement\n",
    "\n",
    "#The following function creates a simulation with the parameters given\n",
    "                   \n",
    "                        #BE CAREFUL!!! \n",
    "#If N is too large it may take a while to generate the movement\n",
    "#If T is too large the animation will take a while to be generated\n",
    "\n",
    "u=generate_vicsek_simulation(N,L,v,T,R,sigma)"
   ]
  },
  {
   "cell_type": "code",
   "execution_count": null,
   "metadata": {},
   "outputs": [],
   "source": [
    "#This function generates a gif of the movement\n",
    "\n",
    "animate_trajectory(u,L,v,R,sigma)\n",
    "\n",
    "#The gif will be at simulationgifs/ folder"
   ]
  },
  {
   "cell_type": "code",
   "execution_count": null,
   "metadata": {},
   "outputs": [],
   "source": []
  }
 ],
 "metadata": {
  "kernelspec": {
   "display_name": "Python 3",
   "language": "python",
   "name": "python3"
  },
  "language_info": {
   "codemirror_mode": {
    "name": "ipython",
    "version": 3
   },
   "file_extension": ".py",
   "mimetype": "text/x-python",
   "name": "python",
   "nbconvert_exporter": "python",
   "pygments_lexer": "ipython3",
   "version": "3.11.3"
  }
 },
 "nbformat": 4,
 "nbformat_minor": 2
}
